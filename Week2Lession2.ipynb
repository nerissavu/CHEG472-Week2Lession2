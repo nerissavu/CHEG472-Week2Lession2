{
  "cells": [
    {
      "cell_type": "markdown",
      "metadata": {
        "id": "view-in-github",
        "colab_type": "text"
      },
      "source": [
        "<a href=\"https://colab.research.google.com/github/nerissavu/CHEG472-Week2Lession2/blob/main/Week2Lession2.ipynb\" target=\"_parent\"><img src=\"https://colab.research.google.com/assets/colab-badge.svg\" alt=\"Open In Colab\"/></a>"
      ]
    },
    {
      "cell_type": "code",
      "execution_count": null,
      "metadata": {
        "colab": {
          "base_uri": "https://localhost:8080/"
        },
        "id": "PsYIwTJBIo_b",
        "outputId": "79bea4c4-9bf1-410e-8549-9a8c5fbd845e"
      },
      "outputs": [
        {
          "output_type": "stream",
          "name": "stdout",
          "text": [
            "            feed         Type of Feed      C     H     N\n",
            "0    Fruit Waste          Orange Peel  41.71  6.04  1.91\n",
            "1    Fruit Waste          Orange Peel  41.71  6.04  1.91\n",
            "2    Fruit Waste          Orange Peel  41.71  6.04  1.91\n",
            "3    Fruit Waste          Orange Peel  41.71  6.04  1.91\n",
            "4    Fruit Waste          Orange Peel  41.71  6.04  1.91\n",
            "..           ...                  ...    ...   ...   ...\n",
            "239        Waste  Food Waste(Kitchen)  41.20  6.71  1.47\n",
            "240        Waste  Food Waste(Kitchen)  41.20  6.71  1.47\n",
            "241        Waste  Food Waste(Kitchen)  41.20  6.71  1.47\n",
            "242        Waste  Food Waste(Kitchen)  41.20  6.71  1.47\n",
            "243        Waste  Food Waste(Kitchen)  41.20  6.71  1.47\n",
            "\n",
            "[244 rows x 5 columns]\n"
          ]
        }
      ],
      "source": [
        "import pandas as pd\n",
        "\n",
        "# Load the Excel file\n",
        "file_path = '/content/Biomass Gasification Dataset.xlsx'\n",
        "df = pd.read_excel(file_path, engine='openpyxl')\n",
        "\n",
        "# Print the first 5 columns\n",
        "print(df.iloc[:, :5])"
      ]
    },
    {
      "cell_type": "code",
      "execution_count": null,
      "metadata": {
        "id": "5Qi_YY9cTPrM",
        "colab": {
          "base_uri": "https://localhost:8080/"
        },
        "outputId": "e73cd288-98a6-4699-9a3a-b8a96940e251"
      },
      "outputs": [
        {
          "output_type": "stream",
          "name": "stdout",
          "text": [
            "Number of row 244\n",
            "Number of column 25\n"
          ]
        }
      ],
      "source": [
        "num_rows, num_cols = df.shape\n",
        "\n",
        "print(\"Number of row\", num_rows)\n",
        "print(\"Number of column\", num_cols)"
      ]
    },
    {
      "cell_type": "code",
      "execution_count": null,
      "metadata": {
        "id": "eRng1KjET7O6",
        "colab": {
          "base_uri": "https://localhost:8080/"
        },
        "outputId": "fbcb2213-99b6-47aa-c1a5-a01e4fd0f7e3"
      },
      "outputs": [
        {
          "output_type": "stream",
          "name": "stdout",
          "text": [
            "feed                       object\n",
            "Type of Feed               object\n",
            "C                         float64\n",
            "H                         float64\n",
            "N                         float64\n",
            "S                         float64\n",
            "O                         float64\n",
            "ASH                       float64\n",
            "C-H Aromatics               int64\n",
            "C-H  Alkanes                int64\n",
            "C-O                         int64\n",
            "C=C                         int64\n",
            "C=O                         int64\n",
            "O-H                         int64\n",
            "Temp                        int64\n",
            "Time                        int64\n",
            "BC                        float64\n",
            "Reactor                    object\n",
            "Catalyst Type              object\n",
            "Catalyst Concentration    float64\n",
            "CO2 mole fraction         float64\n",
            "H2 mole fraction          float64\n",
            "Hydrogen selectivity      float64\n",
            "CO mole fraction          float64\n",
            "CH4 mole fraction         float64\n",
            "dtype: object\n"
          ]
        }
      ],
      "source": [
        "# Get the data types of all columns\n",
        "data_types = df.dtypes\n",
        "\n",
        "# Print the data types\n",
        "print(data_types)"
      ]
    },
    {
      "cell_type": "code",
      "execution_count": null,
      "metadata": {
        "id": "9iybbZ2pT8hq",
        "colab": {
          "base_uri": "https://localhost:8080/"
        },
        "outputId": "5f83f3da-b265-4ec2-f56c-fd9a1872ce7d"
      },
      "outputs": [
        {
          "output_type": "stream",
          "name": "stdout",
          "text": [
            "feed                      0\n",
            "Type of Feed              0\n",
            "C                         0\n",
            "H                         0\n",
            "N                         0\n",
            "S                         0\n",
            "O                         0\n",
            "ASH                       0\n",
            "C-H Aromatics             0\n",
            "C-H  Alkanes              0\n",
            "C-O                       0\n",
            "C=C                       0\n",
            "C=O                       0\n",
            "O-H                       0\n",
            "Temp                      0\n",
            "Time                      0\n",
            "BC                        0\n",
            "Reactor                   0\n",
            "Catalyst Type             0\n",
            "Catalyst Concentration    0\n",
            "CO2 mole fraction         0\n",
            "H2 mole fraction          0\n",
            "Hydrogen selectivity      0\n",
            "CO mole fraction          0\n",
            "CH4 mole fraction         0\n",
            "dtype: int64\n"
          ]
        }
      ],
      "source": [
        "# Check for missing values\n",
        "missing_values = df.isnull().sum()\n",
        "\n",
        "# Print the count of missing values for each column\n",
        "print(missing_values)\n"
      ]
    },
    {
      "cell_type": "code",
      "execution_count": null,
      "metadata": {
        "id": "u86a-7r1VFCI"
      },
      "outputs": [],
      "source": [
        "# Column \"type of feed\" represent the type of biomass feed.\n"
      ]
    },
    {
      "cell_type": "code",
      "execution_count": null,
      "metadata": {
        "id": "ENRzpiY_VY3P",
        "colab": {
          "base_uri": "https://localhost:8080/"
        },
        "outputId": "a8627f4e-1022-464d-f91f-4d8ee4d211ac"
      },
      "outputs": [
        {
          "output_type": "stream",
          "name": "stdout",
          "text": [
            "['Orange Peel' 'Banana Peel' 'Watermelon Peel' 'PET' 'wheat straw'\n",
            " 'Crude Glycerol' 'Dunalila salina- CGLY 4%' 'Esperolina Plantis- CGLY 4%'\n",
            " 'Chulorala Valgaris- CGLY 4%' 'Dunalila salina- Dionized Water'\n",
            " 'Esperolina Plantis- Dionized Water' 'Chulorala Valgaris-Dionized Water'\n",
            " 'Wood' 'Black Liquor' 'Black Liquor- Wood 3%' 'Black Liqour- Wood 5%'\n",
            " 'Black Liquor- Wood 7%' 'Black Liquor- Wood 3%- Formic Acid'\n",
            " 'Black Liquor- Wood 5%- Formic Acid' 'Black Liquor- Wood 7%- Formic Acid'\n",
            " 'Distillition Waste water' 'Dairy Waste water based on Cheese'\n",
            " 'Dairy Waste water based on Milk' 'Food Waste(Kitchen)']\n"
          ]
        }
      ],
      "source": [
        "unique_values = df[\"Type of Feed\"].unique()\n",
        "print(unique_values)\n"
      ]
    },
    {
      "cell_type": "code",
      "execution_count": null,
      "metadata": {
        "id": "wf4AeUEPV4pv",
        "colab": {
          "base_uri": "https://localhost:8080/"
        },
        "outputId": "12631d11-86f6-482f-a72f-78411ff2dd75"
      },
      "outputs": [
        {
          "output_type": "stream",
          "name": "stdout",
          "text": [
            "                                        C                        H             \\\n",
            "                                     mean  std    min    max  mean  std   min   \n",
            "Type of Feed                                                                    \n",
            "Banana Peel                         41.34  NaN  41.34  41.34  5.99  NaN  5.99   \n",
            "Black Liqour- Wood 5%               35.58  NaN  35.58  35.58  4.21  NaN  4.21   \n",
            "Black Liquor                        35.58  0.0  35.58  35.58  4.21  0.0  4.21   \n",
            "Black Liquor- Wood 3%               35.58  NaN  35.58  35.58  4.21  NaN  4.21   \n",
            "Black Liquor- Wood 3%- Formic Acid  35.58  NaN  35.58  35.58  4.21  NaN  4.21   \n",
            "Black Liquor- Wood 5%- Formic Acid  35.58  NaN  35.58  35.58  4.21  NaN  4.21   \n",
            "Black Liquor- Wood 7%               35.58  NaN  35.58  35.58  4.21  NaN  4.21   \n",
            "Black Liquor- Wood 7%- Formic Acid  35.58  NaN  35.58  35.58  4.21  NaN  4.21   \n",
            "Chulorala Valgaris- CGLY 4%         52.20  0.0  52.20  52.20  7.10  0.0  7.10   \n",
            "Chulorala Valgaris-Dionized Water   52.20  NaN  52.20  52.20  7.10  NaN  7.10   \n",
            "Crude Glycerol                      39.10  0.0  39.10  39.10  8.70  0.0  8.70   \n",
            "Dairy Waste water based on Cheese   30.82  0.0  30.82  30.82  5.89  0.0  5.89   \n",
            "Dairy Waste water based on Milk     25.72  0.0  25.72  25.72  4.23  0.0  4.23   \n",
            "Distillition Waste water            34.41  0.0  34.41  34.41  4.87  0.0  4.87   \n",
            "Dunalila salina- CGLY 4%            56.00  0.0  56.00  56.00  7.40  0.0  7.40   \n",
            "Dunalila salina- Dionized Water     56.00  NaN  56.00  56.00  7.40  NaN  7.40   \n",
            "Esperolina Plantis- CGLY 4%         55.40  0.0  55.40  55.40  6.50  0.0  6.50   \n",
            "Esperolina Plantis- Dionized Water  55.40  NaN  55.40  55.40  6.50  NaN  6.50   \n",
            "Food Waste(Kitchen)                 41.20  0.0  41.20  41.20  6.71  0.0  6.71   \n",
            "Orange Peel                         41.71  0.0  41.71  41.71  6.04  0.0  6.04   \n",
            "PET                                 60.82  0.0  60.82  60.82  4.22  0.0  4.22   \n",
            "Watermelon Peel                     36.85  NaN  36.85  36.85  5.88  NaN  5.88   \n",
            "Wood                                46.27  0.0  46.27  46.27  5.86  0.0  5.86   \n",
            "wheat straw                         44.10  0.0  44.10  44.10  6.00  0.0  6.00   \n",
            "\n",
            "                                              N       ...     S            O  \\\n",
            "                                     max   mean  std  ...   min   max   mean   \n",
            "Type of Feed                                          ...                      \n",
            "Banana Peel                         5.99   1.85  NaN  ...  0.00  0.00  50.82   \n",
            "Black Liqour- Wood 5%               4.21   0.79  NaN  ...  2.80  2.80  56.62   \n",
            "Black Liquor                        4.21   0.79  0.0  ...  2.80  2.80  56.62   \n",
            "Black Liquor- Wood 3%               4.21   0.79  NaN  ...  2.80  2.80  56.62   \n",
            "Black Liquor- Wood 3%- Formic Acid  4.21   0.79  NaN  ...  2.80  2.80  56.62   \n",
            "Black Liquor- Wood 5%- Formic Acid  4.21   0.79  NaN  ...  2.80  2.80  56.62   \n",
            "Black Liquor- Wood 7%               4.21   0.79  NaN  ...  2.80  2.80  56.62   \n",
            "Black Liquor- Wood 7%- Formic Acid  4.21   0.79  NaN  ...  2.80  2.80  56.62   \n",
            "Chulorala Valgaris- CGLY 4%         7.10   8.10  0.0  ...  0.50  0.50  32.10   \n",
            "Chulorala Valgaris-Dionized Water   7.10   8.10  NaN  ...  0.50  0.50  32.10   \n",
            "Crude Glycerol                      8.70   0.00  0.0  ...  0.00  0.00  52.20   \n",
            "Dairy Waste water based on Cheese   5.89   7.70  0.0  ...  0.10  0.10  30.49   \n",
            "Dairy Waste water based on Milk     4.23   4.00  0.0  ...  0.00  0.00  41.05   \n",
            "Distillition Waste water            4.87   4.77  0.0  ...  0.00  0.00  53.45   \n",
            "Dunalila salina- CGLY 4%            7.40   9.10  0.0  ...  0.30  0.30  27.20   \n",
            "Dunalila salina- Dionized Water     7.40   9.10  NaN  ...  0.30  0.30  27.20   \n",
            "Esperolina Plantis- CGLY 4%         6.50  11.20  0.0  ...  0.80  0.80  26.10   \n",
            "Esperolina Plantis- Dionized Water  6.50  11.20  NaN  ...  0.80  0.80  26.10   \n",
            "Food Waste(Kitchen)                 6.71   1.47  0.0  ...  0.00  0.00  43.12   \n",
            "Orange Peel                         6.04   1.91  0.0  ...  0.00  0.00  50.34   \n",
            "PET                                 4.22   0.00  0.0  ...  0.00  0.00  31.24   \n",
            "Watermelon Peel                     5.88   2.28  NaN  ...  0.15  0.15  54.84   \n",
            "Wood                                5.86   2.29  0.0  ...  0.08  0.08  45.50   \n",
            "wheat straw                         6.00   0.40  0.0  ...  0.01  0.01  45.10   \n",
            "\n",
            "                                                         ASH              \\\n",
            "                                    std    min    max   mean  std    min   \n",
            "Type of Feed                                                               \n",
            "Banana Peel                         NaN  50.82  50.82   0.00  NaN   0.00   \n",
            "Black Liqour- Wood 5%               NaN  56.62  56.62   0.00  NaN   0.00   \n",
            "Black Liquor                        0.0  56.62  56.62   0.00  0.0   0.00   \n",
            "Black Liquor- Wood 3%               NaN  56.62  56.62   0.00  NaN   0.00   \n",
            "Black Liquor- Wood 3%- Formic Acid  NaN  56.62  56.62   0.00  NaN   0.00   \n",
            "Black Liquor- Wood 5%- Formic Acid  NaN  56.62  56.62   0.00  NaN   0.00   \n",
            "Black Liquor- Wood 7%               NaN  56.62  56.62   0.00  NaN   0.00   \n",
            "Black Liquor- Wood 7%- Formic Acid  NaN  56.62  56.62   0.00  NaN   0.00   \n",
            "Chulorala Valgaris- CGLY 4%         0.0  32.10  32.10   0.00  0.0   0.00   \n",
            "Chulorala Valgaris-Dionized Water   NaN  32.10  32.10   0.00  NaN   0.00   \n",
            "Crude Glycerol                      0.0  52.20  52.20   0.00  0.0   0.00   \n",
            "Dairy Waste water based on Cheese   0.0  30.49  30.49  25.00  0.0  25.00   \n",
            "Dairy Waste water based on Milk     0.0  41.05  41.05  25.00  0.0  25.00   \n",
            "Distillition Waste water            0.0  53.45  53.45   0.00  0.0   0.00   \n",
            "Dunalila salina- CGLY 4%            0.0  27.20  27.20   0.00  0.0   0.00   \n",
            "Dunalila salina- Dionized Water     NaN  27.20  27.20   0.00  NaN   0.00   \n",
            "Esperolina Plantis- CGLY 4%         0.0  26.10  26.10   0.00  0.0   0.00   \n",
            "Esperolina Plantis- Dionized Water  NaN  26.10  26.10   0.00  NaN   0.00   \n",
            "Food Waste(Kitchen)                 0.0  43.12  43.12   4.10  0.0   4.10   \n",
            "Orange Peel                         0.0  50.34  50.34   0.00  0.0   0.00   \n",
            "PET                                 0.0  31.24  31.24   3.72  0.0   3.72   \n",
            "Watermelon Peel                     NaN  54.84  54.84   0.00  NaN   0.00   \n",
            "Wood                                0.0  45.50  45.50   0.00  0.0   0.00   \n",
            "wheat straw                         0.0  45.10  45.10   0.00  0.0   0.00   \n",
            "\n",
            "                                           \n",
            "                                      max  \n",
            "Type of Feed                               \n",
            "Banana Peel                          0.00  \n",
            "Black Liqour- Wood 5%                0.00  \n",
            "Black Liquor                         0.00  \n",
            "Black Liquor- Wood 3%                0.00  \n",
            "Black Liquor- Wood 3%- Formic Acid   0.00  \n",
            "Black Liquor- Wood 5%- Formic Acid   0.00  \n",
            "Black Liquor- Wood 7%                0.00  \n",
            "Black Liquor- Wood 7%- Formic Acid   0.00  \n",
            "Chulorala Valgaris- CGLY 4%          0.00  \n",
            "Chulorala Valgaris-Dionized Water    0.00  \n",
            "Crude Glycerol                       0.00  \n",
            "Dairy Waste water based on Cheese   25.00  \n",
            "Dairy Waste water based on Milk     25.00  \n",
            "Distillition Waste water             0.00  \n",
            "Dunalila salina- CGLY 4%             0.00  \n",
            "Dunalila salina- Dionized Water      0.00  \n",
            "Esperolina Plantis- CGLY 4%          0.00  \n",
            "Esperolina Plantis- Dionized Water   0.00  \n",
            "Food Waste(Kitchen)                  4.10  \n",
            "Orange Peel                          0.00  \n",
            "PET                                  3.72  \n",
            "Watermelon Peel                      0.00  \n",
            "Wood                                 0.00  \n",
            "wheat straw                          0.00  \n",
            "\n",
            "[24 rows x 24 columns]\n"
          ]
        }
      ],
      "source": [
        "required_columns = ['Type of Feed', 'C', 'H', 'N', 'S', 'O', 'ASH']\n",
        "grouped_stats = df.groupby('Type of Feed')[['C', 'H', 'N', 'S', 'O', 'ASH']].agg(['mean', 'std', 'min', 'max'])\n",
        "print(grouped_stats)"
      ]
    },
    {
      "cell_type": "code",
      "execution_count": null,
      "metadata": {
        "id": "rYqQwEwMXGfW",
        "colab": {
          "base_uri": "https://localhost:8080/"
        },
        "outputId": "2ffcf513-f43f-4516-a606-02cf5beeba1b"
      },
      "outputs": [
        {
          "output_type": "stream",
          "name": "stdout",
          "text": [
            "Temperature Range:\n",
            "Minimum: 80\n",
            "Maximum: 400\n"
          ]
        }
      ],
      "source": [
        "# Find the minimum and maximum temperatures\n",
        "min_temp = df['Temp'].min()\n",
        "max_temp = df['Temp'].max()\n",
        "\n",
        "# Print the temperature range\n",
        "print(\"Temperature Range:\")\n",
        "print(\"Minimum:\", min_temp)\n",
        "print(\"Maximum:\", max_temp)"
      ]
    },
    {
      "cell_type": "markdown",
      "metadata": {
        "id": "3_t0pZnAXeDc"
      },
      "source": [
        "**Feature Engineering**"
      ]
    },
    {
      "cell_type": "code",
      "execution_count": null,
      "metadata": {
        "id": "_1HqPkLTbUvw",
        "colab": {
          "base_uri": "https://localhost:8080/"
        },
        "outputId": "c0833459-b2d5-464c-ca7f-73dd1bdf8675"
      },
      "outputs": [
        {
          "output_type": "stream",
          "name": "stdout",
          "text": [
            "Index(['feed', 'Type of Feed', 'C', 'H', 'N', 'S', 'O', 'ASH',\n",
            "       'C-H Aromatics ', 'C-H  Alkanes', 'C-O ', 'C=C ', 'C=O ', 'O-H ',\n",
            "       'Temp', 'Time', 'BC', 'Catalyst Type', 'Catalyst Concentration',\n",
            "       'CO2 mole fraction', 'H2 mole fraction', 'Hydrogen selectivity',\n",
            "       'CO mole fraction', 'CH4 mole fraction'],\n",
            "      dtype='object')\n"
          ]
        }
      ],
      "source": [
        "#Reactor is not important\n",
        "df = df.drop('Reactor', axis=1)\n",
        "print(df.columns)\n"
      ]
    },
    {
      "cell_type": "code",
      "execution_count": null,
      "metadata": {
        "id": "eUx0cIxtXfu-",
        "colab": {
          "base_uri": "https://localhost:8080/"
        },
        "outputId": "fab1c83a-b9e8-45ee-b7f2-20957beee3ee"
      },
      "outputs": [
        {
          "output_type": "stream",
          "name": "stdout",
          "text": [
            "                                    C/H Ratio                             \\\n",
            "                                         mean  std        min        max   \n",
            "Type of Feed                                                               \n",
            "Banana Peel                          6.901503  NaN   6.901503   6.901503   \n",
            "Black Liqour- Wood 5%                8.451306  NaN   8.451306   8.451306   \n",
            "Black Liquor                         8.451306  0.0   8.451306   8.451306   \n",
            "Black Liquor- Wood 3%                8.451306  NaN   8.451306   8.451306   \n",
            "Black Liquor- Wood 3%- Formic Acid   8.451306  NaN   8.451306   8.451306   \n",
            "Black Liquor- Wood 5%- Formic Acid   8.451306  NaN   8.451306   8.451306   \n",
            "Black Liquor- Wood 7%                8.451306  NaN   8.451306   8.451306   \n",
            "Black Liquor- Wood 7%- Formic Acid   8.451306  NaN   8.451306   8.451306   \n",
            "Chulorala Valgaris- CGLY 4%          7.352113  0.0   7.352113   7.352113   \n",
            "Chulorala Valgaris-Dionized Water    7.352113  NaN   7.352113   7.352113   \n",
            "Crude Glycerol                       4.494253  0.0   4.494253   4.494253   \n",
            "Dairy Waste water based on Cheese    5.232598  0.0   5.232598   5.232598   \n",
            "Dairy Waste water based on Milk      6.080378  0.0   6.080378   6.080378   \n",
            "Distillition Waste water             7.065708  0.0   7.065708   7.065708   \n",
            "Dunalila salina- CGLY 4%             7.567568  0.0   7.567568   7.567568   \n",
            "Dunalila salina- Dionized Water      7.567568  NaN   7.567568   7.567568   \n",
            "Esperolina Plantis- CGLY 4%          8.523077  0.0   8.523077   8.523077   \n",
            "Esperolina Plantis- Dionized Water   8.523077  NaN   8.523077   8.523077   \n",
            "Food Waste(Kitchen)                  6.140089  0.0   6.140089   6.140089   \n",
            "Orange Peel                          6.905629  0.0   6.905629   6.905629   \n",
            "PET                                 14.412322  0.0  14.412322  14.412322   \n",
            "Watermelon Peel                      6.267007  NaN   6.267007   6.267007   \n",
            "Wood                                 7.895904  0.0   7.895904   7.895904   \n",
            "wheat straw                          7.350000  0.0   7.350000   7.350000   \n",
            "\n",
            "                                    O/H Ratio                             \n",
            "                                         mean  std        min        max  \n",
            "Type of Feed                                                              \n",
            "Banana Peel                          8.484140  NaN   8.484140   8.484140  \n",
            "Black Liqour- Wood 5%               13.448931  NaN  13.448931  13.448931  \n",
            "Black Liquor                        13.448931  0.0  13.448931  13.448931  \n",
            "Black Liquor- Wood 3%               13.448931  NaN  13.448931  13.448931  \n",
            "Black Liquor- Wood 3%- Formic Acid  13.448931  NaN  13.448931  13.448931  \n",
            "Black Liquor- Wood 5%- Formic Acid  13.448931  NaN  13.448931  13.448931  \n",
            "Black Liquor- Wood 7%               13.448931  NaN  13.448931  13.448931  \n",
            "Black Liquor- Wood 7%- Formic Acid  13.448931  NaN  13.448931  13.448931  \n",
            "Chulorala Valgaris- CGLY 4%          4.521127  0.0   4.521127   4.521127  \n",
            "Chulorala Valgaris-Dionized Water    4.521127  NaN   4.521127   4.521127  \n",
            "Crude Glycerol                       6.000000  0.0   6.000000   6.000000  \n",
            "Dairy Waste water based on Cheese    5.176570  0.0   5.176570   5.176570  \n",
            "Dairy Waste water based on Milk      9.704492  0.0   9.704492   9.704492  \n",
            "Distillition Waste water            10.975359  0.0  10.975359  10.975359  \n",
            "Dunalila salina- CGLY 4%             3.675676  0.0   3.675676   3.675676  \n",
            "Dunalila salina- Dionized Water      3.675676  NaN   3.675676   3.675676  \n",
            "Esperolina Plantis- CGLY 4%          4.015385  0.0   4.015385   4.015385  \n",
            "Esperolina Plantis- Dionized Water   4.015385  NaN   4.015385   4.015385  \n",
            "Food Waste(Kitchen)                  6.426230  0.0   6.426230   6.426230  \n",
            "Orange Peel                          8.334437  0.0   8.334437   8.334437  \n",
            "PET                                  7.402844  0.0   7.402844   7.402844  \n",
            "Watermelon Peel                      9.326531  NaN   9.326531   9.326531  \n",
            "Wood                                 7.764505  0.0   7.764505   7.764505  \n",
            "wheat straw                          7.516667  0.0   7.516667   7.516667  \n"
          ]
        }
      ],
      "source": [
        "# Calculate C/H and O/H ratios\n",
        "df['C/H Ratio'] = df['C'] / df['H']\n",
        "df['O/H Ratio'] = df['O'] / df['H']\n",
        "\n",
        "grouped_stats = df.groupby('Type of Feed')[['C/H Ratio', 'O/H Ratio']].agg(['mean', 'std', 'min', 'max'])\n",
        "\n",
        "print(grouped_stats)\n"
      ]
    },
    {
      "cell_type": "markdown",
      "metadata": {
        "id": "FeDGf7gBYu76"
      },
      "source": [
        "**Hot encoding**"
      ]
    },
    {
      "cell_type": "code",
      "execution_count": null,
      "metadata": {
        "id": "mWk9iWUgYxIa",
        "colab": {
          "base_uri": "https://localhost:8080/"
        },
        "outputId": "c785cc3d-ad92-4c51-891b-4b2a2f73abfe"
      },
      "outputs": [
        {
          "output_type": "stream",
          "name": "stdout",
          "text": [
            "\n",
            "Encoded Data Info:\n",
            "<class 'pandas.core.frame.DataFrame'>\n",
            "RangeIndex: 244 entries, 0 to 243\n",
            "Data columns (total 49 columns):\n",
            " #   Column                                   Non-Null Count  Dtype  \n",
            "---  ------                                   --------------  -----  \n",
            " 0   feed                                     244 non-null    object \n",
            " 1   C                                        244 non-null    float64\n",
            " 2   H                                        244 non-null    float64\n",
            " 3   N                                        244 non-null    float64\n",
            " 4   S                                        244 non-null    float64\n",
            " 5   O                                        244 non-null    float64\n",
            " 6   ASH                                      244 non-null    float64\n",
            " 7   C-H Aromatics                            244 non-null    int64  \n",
            " 8   C-H  Alkanes                             244 non-null    int64  \n",
            " 9   C-O                                      244 non-null    int64  \n",
            " 10  C=C                                      244 non-null    int64  \n",
            " 11  C=O                                      244 non-null    int64  \n",
            " 12  O-H                                      244 non-null    int64  \n",
            " 13  Temp                                     244 non-null    int64  \n",
            " 14  Time                                     244 non-null    int64  \n",
            " 15  BC                                       244 non-null    float64\n",
            " 16  Catalyst Type                            244 non-null    object \n",
            " 17  Catalyst Concentration                   244 non-null    float64\n",
            " 18  CO2 mole fraction                        244 non-null    float64\n",
            " 19  H2 mole fraction                         244 non-null    float64\n",
            " 20  Hydrogen selectivity                     244 non-null    float64\n",
            " 21  CO mole fraction                         244 non-null    float64\n",
            " 22  CH4 mole fraction                        244 non-null    float64\n",
            " 23  C/H Ratio                                244 non-null    float64\n",
            " 24  O/H Ratio                                244 non-null    float64\n",
            " 25  Feed_Banana Peel                         244 non-null    bool   \n",
            " 26  Feed_Black Liqour- Wood 5%               244 non-null    bool   \n",
            " 27  Feed_Black Liquor                        244 non-null    bool   \n",
            " 28  Feed_Black Liquor- Wood 3%               244 non-null    bool   \n",
            " 29  Feed_Black Liquor- Wood 3%- Formic Acid  244 non-null    bool   \n",
            " 30  Feed_Black Liquor- Wood 5%- Formic Acid  244 non-null    bool   \n",
            " 31  Feed_Black Liquor- Wood 7%               244 non-null    bool   \n",
            " 32  Feed_Black Liquor- Wood 7%- Formic Acid  244 non-null    bool   \n",
            " 33  Feed_Chulorala Valgaris- CGLY 4%         244 non-null    bool   \n",
            " 34  Feed_Chulorala Valgaris-Dionized Water   244 non-null    bool   \n",
            " 35  Feed_Crude Glycerol                      244 non-null    bool   \n",
            " 36  Feed_Dairy Waste water based on Cheese   244 non-null    bool   \n",
            " 37  Feed_Dairy Waste water based on Milk     244 non-null    bool   \n",
            " 38  Feed_Distillition Waste water            244 non-null    bool   \n",
            " 39  Feed_Dunalila salina- CGLY 4%            244 non-null    bool   \n",
            " 40  Feed_Dunalila salina- Dionized Water     244 non-null    bool   \n",
            " 41  Feed_Esperolina Plantis- CGLY 4%         244 non-null    bool   \n",
            " 42  Feed_Esperolina Plantis- Dionized Water  244 non-null    bool   \n",
            " 43  Feed_Food Waste(Kitchen)                 244 non-null    bool   \n",
            " 44  Feed_Orange Peel                         244 non-null    bool   \n",
            " 45  Feed_PET                                 244 non-null    bool   \n",
            " 46  Feed_Watermelon Peel                     244 non-null    bool   \n",
            " 47  Feed_Wood                                244 non-null    bool   \n",
            " 48  Feed_wheat straw                         244 non-null    bool   \n",
            "dtypes: bool(24), float64(15), int64(8), object(2)\n",
            "memory usage: 53.5+ KB\n",
            "None\n",
            "\n",
            "First few rows of encoded data:\n",
            "          feed      C     H     N    S      O  ASH  C-H Aromatics   \\\n",
            "0  Fruit Waste  41.71  6.04  1.91  0.0  50.34  0.0               1   \n",
            "1  Fruit Waste  41.71  6.04  1.91  0.0  50.34  0.0               1   \n",
            "2  Fruit Waste  41.71  6.04  1.91  0.0  50.34  0.0               1   \n",
            "3  Fruit Waste  41.71  6.04  1.91  0.0  50.34  0.0               1   \n",
            "4  Fruit Waste  41.71  6.04  1.91  0.0  50.34  0.0               1   \n",
            "\n",
            "   C-H  Alkanes  C-O   ...  Feed_Dunalila salina- CGLY 4%  \\\n",
            "0             1     1  ...                          False   \n",
            "1             1     1  ...                          False   \n",
            "2             1     1  ...                          False   \n",
            "3             1     1  ...                          False   \n",
            "4             1     1  ...                          False   \n",
            "\n",
            "   Feed_Dunalila salina- Dionized Water  Feed_Esperolina Plantis- CGLY 4%  \\\n",
            "0                                 False                             False   \n",
            "1                                 False                             False   \n",
            "2                                 False                             False   \n",
            "3                                 False                             False   \n",
            "4                                 False                             False   \n",
            "\n",
            "   Feed_Esperolina Plantis- Dionized Water  Feed_Food Waste(Kitchen)  \\\n",
            "0                                    False                     False   \n",
            "1                                    False                     False   \n",
            "2                                    False                     False   \n",
            "3                                    False                     False   \n",
            "4                                    False                     False   \n",
            "\n",
            "   Feed_Orange Peel Feed_PET  Feed_Watermelon Peel  Feed_Wood  \\\n",
            "0              True    False                 False      False   \n",
            "1              True    False                 False      False   \n",
            "2              True    False                 False      False   \n",
            "3              True    False                 False      False   \n",
            "4              True    False                 False      False   \n",
            "\n",
            "   Feed_wheat straw  \n",
            "0             False  \n",
            "1             False  \n",
            "2             False  \n",
            "3             False  \n",
            "4             False  \n",
            "\n",
            "[5 rows x 49 columns]\n"
          ]
        }
      ],
      "source": [
        "# Perform one-hot encoding on 'Type of feed'\n",
        "df_encoded = pd.get_dummies(df, columns=['Type of Feed'], prefix='Feed')\n",
        "print(\"\\nEncoded Data Info:\")\n",
        "print(df_encoded.info())\n",
        "print(\"\\nFirst few rows of encoded data:\")\n",
        "print(df_encoded.head())\n"
      ]
    },
    {
      "cell_type": "code",
      "execution_count": null,
      "metadata": {
        "id": "smLVkjl0aP2J",
        "colab": {
          "base_uri": "https://localhost:8080/"
        },
        "outputId": "64e5098b-b3de-4cdc-f50a-463504c2701f"
      },
      "outputs": [
        {
          "output_type": "stream",
          "name": "stdout",
          "text": [
            "Number of new columns created by one-hot encoding: 24\n"
          ]
        }
      ],
      "source": [
        "# Calculate the number of new columns created\n",
        "new_columns = len(df_encoded.columns) - len(df.columns) + 1  # +1 because we removed the original 'Type of feed' column\n",
        "print(f\"Number of new columns created by one-hot encoding: {new_columns}\")\n"
      ]
    },
    {
      "cell_type": "markdown",
      "metadata": {
        "id": "LIwePhcBaVOI"
      },
      "source": [
        "**Handling Outliers**"
      ]
    },
    {
      "cell_type": "code",
      "execution_count": null,
      "metadata": {
        "colab": {
          "base_uri": "https://localhost:8080/"
        },
        "id": "jcAxvdYxccw_",
        "outputId": "080b5c26-a342-4fc1-fe87-445ae6d9186a"
      },
      "outputs": [
        {
          "output_type": "stream",
          "name": "stdout",
          "text": [
            "\n",
            "Analyzing outliers in CO2 mole fraction:\n",
            "Number of outliers: 0\n",
            "\n",
            "Analyzing outliers in H2 mole fraction:\n",
            "Number of outliers: 0\n",
            "\n",
            "Analyzing outliers in CO mole fraction:\n",
            "Number of outliers: 4\n",
            "Outlier values:\n",
            "90    75.0\n",
            "91    75.0\n",
            "92    78.0\n",
            "93    75.0\n",
            "Name: CO mole fraction, dtype: float64\n",
            "\n",
            "Analyzing outliers in CH4 mole fraction:\n",
            "Number of outliers: 3\n",
            "Outlier values:\n",
            "153    26.29\n",
            "156    24.37\n",
            "237    24.00\n",
            "Name: CH4 mole fraction, dtype: float64\n"
          ]
        }
      ],
      "source": [
        "import numpy as np\n",
        "from scipy import stats\n",
        "\n",
        "rows_to_remove = set()\n",
        "gas_mole_fraction_column = [\"CO2 mole fraction\", \"H2 mole fraction\", \"CO mole fraction\", 'CH4 mole fraction']\n",
        "for column in gas_mole_fraction_column:\n",
        "      print(f\"\\nAnalyzing outliers in {column}:\")\n",
        "\n",
        "      # Calculate Z-score\n",
        "      z_scores = np.abs(stats.zscore(df[column]))\n",
        "\n",
        "      # Identify outliers (Z-score > 3)\n",
        "      outliers = df[z_scores > 3]\n",
        "\n",
        "      print(f\"Number of outliers: {len(outliers)}\")\n",
        "      if len(outliers) > 0:\n",
        "          print(\"Outlier values:\")\n",
        "          print(outliers[column])\n",
        "          rows_to_remove.update(outliers.index)"
      ]
    },
    {
      "cell_type": "code",
      "execution_count": null,
      "metadata": {
        "colab": {
          "base_uri": "https://localhost:8080/"
        },
        "id": "UVxQu7oRcub-",
        "outputId": "ee610b1d-83e4-427e-b0f7-1e33523cadec"
      },
      "outputs": [
        {
          "output_type": "stream",
          "name": "stdout",
          "text": [
            "\n",
            "Number of rows removed: 7\n",
            "Number of rows in cleaned dataset: 237\n"
          ]
        }
      ],
      "source": [
        "# I will normally remove outliers. => Remove all the row with the outliers\n",
        "\n",
        "df_cleaned = df.drop(rows_to_remove)\n",
        "print(f\"\\nNumber of rows removed: {len(rows_to_remove)}\")\n",
        "print(f\"Number of rows in cleaned dataset: {len(df_cleaned)}\")"
      ]
    },
    {
      "cell_type": "markdown",
      "metadata": {
        "id": "-BOx38WkxU-l"
      },
      "source": [
        "**Exploratory Data Analysis**"
      ]
    },
    {
      "cell_type": "code",
      "execution_count": null,
      "metadata": {
        "colab": {
          "base_uri": "https://localhost:8080/",
          "height": 1000
        },
        "id": "geHA_0j9wlvF",
        "outputId": "18fcf91d-514e-4dd6-f267-52c5384cff32"
      },
      "outputs": [
        {
          "output_type": "display_data",
          "data": {
            "text/plain": [
              "<Figure size 1000x1200 with 2 Axes>"
            ],
            "image/png": "[encoded data removed]"
          },
          "metadata": {}
        }
      ],
      "source": [
        "# Temperature histogram\n",
        "# Create the histogram\n",
        "import matplotlib.pyplot as plt\n",
        "import seaborn as sns\n",
        "\n",
        "# Create a figure with two subplots\n",
        "fig, (ax1, ax2) = plt.subplots(2, 1, figsize=(10, 12))\n",
        "\n",
        "# Histogram\n",
        "sns.histplot(data=df, x='Temp', kde=True, ax=ax1)\n",
        "ax1.set_title('Histogram of Temperature')\n",
        "ax1.set_xlabel('Temperature')\n",
        "ax1.set_ylabel('Frequency')\n",
        "\n",
        "# Boxplot\n",
        "sns.boxplot(data=df, y='Temp', ax=ax2)\n",
        "ax2.set_title('Boxplot of Temperature')\n",
        "ax2.set_ylabel('Temperature')\n",
        "\n",
        "# Adjust layout and display the plot\n",
        "plt.tight_layout()\n",
        "plt.show()"
      ]
    },
    {
      "cell_type": "markdown",
      "source": [
        "#Comment about temperature\n",
        "Distribution: The temperature distribution is highly skewed to the right (positively skewed)"
      ],
      "metadata": {
        "id": "KPjgPl5NV6kQ"
      }
    },
    {
      "cell_type": "code",
      "execution_count": null,
      "metadata": {
        "colab": {
          "base_uri": "https://localhost:8080/",
          "height": 564
        },
        "id": "hYIMV89Lzoql",
        "outputId": "b7a5d01b-0ffc-45b4-894b-8f74d05491e5"
      },
      "outputs": [
        {
          "output_type": "display_data",
          "data": {
            "text/plain": [
              "<Figure size 1000x600 with 1 Axes>"
            ],
            "image/png": "[encoded data removed]"
          },
          "metadata": {}
        }
      ],
      "source": [
        "# Correlation between temperature and CO2 mol fraction\n",
        "plt.figure(figsize=(10, 6))\n",
        "sns.scatterplot(data=df, x='Temp', y='CO2 mole fraction')\n",
        "plt.title('CO2 vs Temperature')\n",
        "plt.xlabel('Temperature (°C)')\n",
        "plt.ylabel('CO2 Concentration')\n",
        "plt.show()"
      ]
    },
    {
      "cell_type": "markdown",
      "source": [
        "No clear linear trend: There isn't a obvious linear pattern (either positive or negative) as temperature increases.\n",
        "Wide spread of data: At higher temperatures (350°C and 400°C), there's a very wide range of CO2 mole fractions, from very low (near 0) to very high (near 100).\n"
      ],
      "metadata": {
        "id": "cm__whvhWiG_"
      }
    },
    {
      "cell_type": "code",
      "source": [
        "# Split the Data\n",
        "\n",
        "# Define the target columns\n",
        "target_columns = ['CO2 mole fraction', 'H2 mole fraction', 'Hydrogen selectivity',\n",
        "                  'CO mole fraction', 'CH4 mole fraction']\n",
        "\n",
        "# Create the target DataFrame Y\n",
        "Y = df[target_columns]\n",
        "\n",
        "# Create the feature DataFrame X by dropping the target columns\n",
        "X = df.drop(columns=target_columns)\n",
        "\n",
        "# Print info about the split\n",
        "print(\"Features (X):\")\n",
        "print(X.columns.tolist())\n",
        "print(f\"Shape of X: {X.shape}\")\n",
        "\n",
        "print(\"\\nTargets (Y):\")\n",
        "print(Y.columns.tolist())\n",
        "print(f\"Shape of Y: {Y.shape}\")\n",
        "\n",
        "# Optional: Display the first few rows of X and Y\n",
        "print(\"\\nFirst few rows of X:\")\n",
        "print(X.head())\n",
        "\n",
        "print(\"\\nFirst few rows of Y:\")\n",
        "print(Y.head())\n",
        "\n",
        "# # Optional: Save X and Y to csv files\n",
        "# X.to_csv('features.csv', index=False)\n",
        "# Y.to_csv('targets.csv', index=False)\n",
        "# print(\"\\nFeatures and targets have been saved to 'features.csv' and 'targets.csv'\")"
      ],
      "metadata": {
        "colab": {
          "base_uri": "https://localhost:8080/"
        },
        "id": "sjJVQPmTWno2",
        "outputId": "9213eb74-821f-42ea-a8d9-871e906c75b8"
      },
      "execution_count": null,
      "outputs": [
        {
          "output_type": "stream",
          "name": "stdout",
          "text": [
            "Features (X):\n",
            "['feed', 'Type of Feed', 'C', 'H', 'N', 'S', 'O', 'ASH', 'C-H Aromatics ', 'C-H  Alkanes', 'C-O ', 'C=C ', 'C=O ', 'O-H ', 'Temp', 'Time', 'BC', 'Catalyst Type', 'Catalyst Concentration', 'C/H Ratio', 'O/H Ratio']\n",
            "Shape of X: (244, 21)\n",
            "\n",
            "Targets (Y):\n",
            "['CO2 mole fraction', 'H2 mole fraction', 'Hydrogen selectivity', 'CO mole fraction', 'CH4 mole fraction']\n",
            "Shape of Y: (244, 5)\n",
            "\n",
            "First few rows of X:\n",
            "          feed Type of Feed      C     H     N    S      O  ASH  \\\n",
            "0  Fruit Waste  Orange Peel  41.71  6.04  1.91  0.0  50.34  0.0   \n",
            "1  Fruit Waste  Orange Peel  41.71  6.04  1.91  0.0  50.34  0.0   \n",
            "2  Fruit Waste  Orange Peel  41.71  6.04  1.91  0.0  50.34  0.0   \n",
            "3  Fruit Waste  Orange Peel  41.71  6.04  1.91  0.0  50.34  0.0   \n",
            "4  Fruit Waste  Orange Peel  41.71  6.04  1.91  0.0  50.34  0.0   \n",
            "\n",
            "   C-H Aromatics   C-H  Alkanes  ...  C=C   C=O   O-H   Temp  Time    BC  \\\n",
            "0               1             1  ...     1     1     1   350    30   5.0   \n",
            "1               1             1  ...     1     1     1   350    60   5.0   \n",
            "2               1             1  ...     1     1     1   350    30  15.0   \n",
            "3               1             1  ...     1     1     1   350    60  15.0   \n",
            "4               1             1  ...     1     1     1   350    45  10.0   \n",
            "\n",
            "   Catalyst Type Catalyst Concentration  C/H Ratio  O/H Ratio  \n",
            "0              0                    0.0   6.905629   8.334437  \n",
            "1              0                    0.0   6.905629   8.334437  \n",
            "2              0                    0.0   6.905629   8.334437  \n",
            "3              0                    0.0   6.905629   8.334437  \n",
            "4              0                    0.0   6.905629   8.334437  \n",
            "\n",
            "[5 rows x 21 columns]\n",
            "\n",
            "First few rows of Y:\n",
            "   CO2 mole fraction  H2 mole fraction  Hydrogen selectivity  \\\n",
            "0              92.37              1.54              1.564087   \n",
            "1              93.00              2.49              2.553584   \n",
            "2              92.50              2.00              2.040816   \n",
            "3              95.27              1.09              1.102012   \n",
            "4              95.35              0.97              0.979501   \n",
            "\n",
            "   CO mole fraction  CH4 mole fraction  \n",
            "0              5.65               0.42  \n",
            "1              4.18               0.33  \n",
            "2              4.50               1.00  \n",
            "3              2.62               1.00  \n",
            "4              3.23               0.45  \n"
          ]
        }
      ]
    },
    {
      "cell_type": "markdown",
      "source": [],
      "metadata": {
        "id": "SVtfuc5-WeFI"
      }
    }
  ],
  "metadata": {
    "colab": {
      "provenance": [],
      "include_colab_link": true
    },
    "kernelspec": {
      "display_name": "Python 3",
      "name": "python3"
    },
    "language_info": {
      "name": "python"
    }
  },
  "nbformat": 4,
  "nbformat_minor": 0
}